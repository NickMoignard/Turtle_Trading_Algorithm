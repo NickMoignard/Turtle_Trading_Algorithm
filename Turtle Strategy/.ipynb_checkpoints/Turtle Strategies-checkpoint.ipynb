{
 "cells": [
  {
   "cell_type": "markdown",
   "metadata": {},
   "source": [
    "# Markets\n",
    "Observe as many markets as possible.\n",
    "Markets are removed from trading if Trading Volume is too low or market does not trend well\n"
   ]
  },
  {
   "cell_type": "code",
   "execution_count": null,
   "metadata": {},
   "outputs": [],
   "source": [
    "from statistics import mean"
   ]
  },
  {
   "cell_type": "code",
   "execution_count": 4,
   "metadata": {
    "collapsed": true
   },
   "outputs": [
    {
     "ename": "NameError",
     "evalue": "name 'mean' is not defined",
     "output_type": "error",
     "traceback": [
      "\u001b[0;31m---------------------------------------------------------------------------\u001b[0m",
      "\u001b[0;31mNameError\u001b[0m                                 Traceback (most recent call last)",
      "\u001b[0;32m<ipython-input-4-abf279dd6ab4>\u001b[0m in \u001b[0;36m<module>\u001b[0;34m()\u001b[0m\n\u001b[1;32m     12\u001b[0m \u001b[0;34m\u001b[0m\u001b[0m\n\u001b[1;32m     13\u001b[0m \u001b[0;31m# when first performing this calculations the simple moving avg true range is used.\u001b[0m\u001b[0;34m\u001b[0m\u001b[0;34m\u001b[0m\u001b[0m\n\u001b[0;32m---> 14\u001b[0;31m \u001b[0minit_true_range\u001b[0m \u001b[0;34m=\u001b[0m \u001b[0mmean\u001b[0m\u001b[0;34m(\u001b[0m\u001b[0mprevious_mean_true_ranges\u001b[0m\u001b[0;34m[\u001b[0m\u001b[0;34m-\u001b[0m\u001b[0mtime_length\u001b[0m\u001b[0;34m:\u001b[0m\u001b[0;34m]\u001b[0m\u001b[0;34m)\u001b[0m\u001b[0;34m\u001b[0m\u001b[0m\n\u001b[0m\u001b[1;32m     15\u001b[0m \u001b[0;34m\u001b[0m\u001b[0m\n\u001b[1;32m     16\u001b[0m \u001b[0;32mdef\u001b[0m \u001b[0mgetATR\u001b[0m\u001b[0;34m(\u001b[0m\u001b[0mhigh\u001b[0m\u001b[0;34m,\u001b[0m \u001b[0mlow\u001b[0m\u001b[0;34m,\u001b[0m \u001b[0mprev_close\u001b[0m\u001b[0;34m,\u001b[0m \u001b[0mprev_atr\u001b[0m\u001b[0;34m=\u001b[0m\u001b[0minit_true_range\u001b[0m\u001b[0;34m,\u001b[0m \u001b[0mtime_length\u001b[0m\u001b[0;34m=\u001b[0m\u001b[0;36m20\u001b[0m\u001b[0;34m)\u001b[0m\u001b[0;34m:\u001b[0m\u001b[0;34m\u001b[0m\u001b[0m\n",
      "\u001b[0;31mNameError\u001b[0m: name 'mean' is not defined"
     ]
    }
   ],
   "source": [
    "# Position Sizing\n",
    "account = float() # Amount of money to be traded with\n",
    "\n",
    "# From Dataset\n",
    "current_high = float()\n",
    "current_low = float()\n",
    "previous_day_close = float()\n",
    "previous_atr = float()\n",
    "dollares_per_point = float()\n",
    "\n",
    "previous_mean_true_ranges = []\n",
    "\n",
    "# When first performing ATR calculations the simple moving avg true range is used.\n",
    "init_true_range = mean(previous_mean_true_ranges[-time_length:])\n",
    "\n",
    "def getATR(high, low, prev_close, prev_atr=init_true_range, time_length=20):\n",
    "    r = max(high - low, abs(high - prev_close), abs(prev_close - low))\n",
    "    atr = ((time_length - 1) * prev_atr * r) / time_length\n",
    "    return atr                                                                                    \n",
    "\n",
    "# Turtle Units (t_unit) 1% of account over market volatility\n",
    "# Positions are made in increments of these units in order to maintain diversification across portfolio\n",
    "def getTurleUnit(market, account):\n",
    "    atr = getATR(current_high, current_low, previous_day_close, previous_atr)\n",
    "    dollar_volatility = market.dollars_per_point * atr\n",
    "    return (account * 0.01) / dollar_volatility \n"
   ]
  },
  {
   "cell_type": "code",
   "execution_count": null,
   "metadata": {},
   "outputs": [],
   "source": [
    "# Risk Management\n",
    "MAX_T_UNITS_SINGLE_MARKET = 4  # e.g. Gold\n",
    "MAX_T_UNITS_CLOSELY_CORRELATED_MARKETS = 6  # e.g. Gold & Silver\n",
    "MAX_T_UNITS_LOOSELY_CORRELATED_MARKETS = 10  # e.g. Gold & Copper\n",
    "MAX_T_UNITS_SINGLE_DIRECTION = 12  # Long or Short\n",
    "\n",
    "def canMakeTradeInMarket(market, direction):\n",
    "    pos = market.cur_position\n",
    "    long, short = getCurPositions()\n",
    "    \n",
    "    close, loose = 0, 0\n",
    "    for market in market.closely_related:\n",
    "        close += market.position\n",
    "    for market in market.loosely_related:\n",
    "        loose += market.position\n",
    "    \n",
    "    if pos >= MAX_T_UNITS_SINGLE_MARKET:\n",
    "        return False\n",
    "    elif pos + close >= MAX_T_UNITS_CLOSELY_CORRELATED_MARKETS:\n",
    "        return False\n",
    "    elif pos + loose >= MAX_T_UNITS_LOOSELY_CORRELATED_MARKETS:\n",
    "        return False\n",
    "    elif direction == 'Long' and long >= MAX_T_UNITS_LOOSELY_CORRELATED_MARKETS:\n",
    "        return False\n",
    "    elif direction == 'Short' and short >= MAX_T_UNITS_SINGLE_DIRECTION:\n",
    "        return False\n",
    "    \n",
    "    return True"
   ]
  },
  {
   "cell_type": "code",
   "execution_count": null,
   "metadata": {},
   "outputs": [],
   "source": [
    "# Entries\n",
    "\n",
    "# From Data Set\n",
    "cur_price = float()\n",
    "twenty_day_low, fifty_five_day_low = float(), float()\n",
    "twenty_day_high, fifty_five_day_high = float(), float()\n",
    "prev_signal_result = []  # True if winning, False if losing\n",
    "\n",
    "long_signal = ( cur_price > twenty_day_high )\n",
    "short_signal = ( cur_price < twenty_day_low )\n",
    "fall_back_long = ( cur_price > fifty_five_day_high )\n",
    "fall_back_short = ( cur_price < fifty_five_day_low )\n",
    "\n",
    "def takePosition(direction, market):\n",
    "    units_to_order = int(getTurtleUnit(market, account))\n",
    "    if canMakeTradeInMarket(market, direction):\n",
    "        print(\"ring ur broker. \"+ direction +\" \"+ str(units_to_order) +\" of \"+ market.title)\n",
    "    else:\n",
    "        print('You are already fully loaded')\n",
    "    \n",
    "if (short_signal and !prev_signal_result[-1]):\n",
    "    takePosition('Short', market)\n",
    "elif (long_signal and !prev_signal_result[-1]):\n",
    "    takePosition('Long', market)\n",
    "elif fall_back_long:\n",
    "    takePosition('Long', market)\n",
    "elif fall_back_short:\n",
    "    takePosition('Short', market)\n",
    "else:\n",
    "    print('Wait for a signal')\n",
    "    "
   ]
  },
  {
   "cell_type": "code",
   "execution_count": null,
   "metadata": {},
   "outputs": [],
   "source": [
    "# Adding to a Position\n",
    "add_signal = market.cur_price > position.first_unit_price + 0.5*market.atr\n",
    "if add_signal:\n",
    "    position.addTUnit()\n",
    "    "
   ]
  },
  {
   "cell_type": "code",
   "execution_count": 2,
   "metadata": {},
   "outputs": [],
   "source": [
    "# Stops\n",
    "def executeStop():\n",
    "    print('Pull out now!')\n",
    "\n",
    "breakout_price = float()\n",
    "breakout_atr = float()\n",
    "\n",
    "if current_price < breakout_price - 2*breakout_atr:\n",
    "    executeStop()\n",
    "    \n"
   ]
  },
  {
   "cell_type": "code",
   "execution_count": 3,
   "metadata": {},
   "outputs": [],
   "source": [
    "# Exits"
   ]
  },
  {
   "cell_type": "code",
   "execution_count": null,
   "metadata": {},
   "outputs": [],
   "source": [
    "# Tactics"
   ]
  }
 ],
 "metadata": {
  "kernelspec": {
   "display_name": "Python 3",
   "language": "python",
   "name": "python3"
  },
  "language_info": {
   "codemirror_mode": {
    "name": "ipython",
    "version": 3
   },
   "file_extension": ".py",
   "mimetype": "text/x-python",
   "name": "python",
   "nbconvert_exporter": "python",
   "pygments_lexer": "ipython3",
   "version": "3.6.4"
  }
 },
 "nbformat": 4,
 "nbformat_minor": 2
}
